{
 "cells": [
  {
   "cell_type": "code",
   "execution_count": 1,
   "id": "7c5660f7",
   "metadata": {},
   "outputs": [],
   "source": [
    "import pandas as pd\n",
    "import numpy as np\n",
    "import seaborn as sns\n",
    "import matplotlib.pyplot as plt"
   ]
  },
  {
   "cell_type": "code",
   "execution_count": 2,
   "id": "3cf7f95f",
   "metadata": {},
   "outputs": [
    {
     "data": {
      "text/html": [
       "<div>\n",
       "<style scoped>\n",
       "    .dataframe tbody tr th:only-of-type {\n",
       "        vertical-align: middle;\n",
       "    }\n",
       "\n",
       "    .dataframe tbody tr th {\n",
       "        vertical-align: top;\n",
       "    }\n",
       "\n",
       "    .dataframe thead th {\n",
       "        text-align: right;\n",
       "    }\n",
       "</style>\n",
       "<table border=\"1\" class=\"dataframe\">\n",
       "  <thead>\n",
       "    <tr style=\"text-align: right;\">\n",
       "      <th></th>\n",
       "      <th>PropertyID</th>\n",
       "      <th>Borough</th>\n",
       "      <th>State</th>\n",
       "      <th>Surroundings</th>\n",
       "      <th>Address</th>\n",
       "      <th>ZipCode</th>\n",
       "      <th>Block</th>\n",
       "      <th>Lot</th>\n",
       "      <th>BldgClassCategory</th>\n",
       "      <th>NoOfResidentialUnits</th>\n",
       "      <th>NoOfCommercialUnits</th>\n",
       "      <th>TotalNoOfUnits</th>\n",
       "      <th>LandAreaInSqFt</th>\n",
       "      <th>GrossAreaInSqFt</th>\n",
       "      <th>YearOfConstruction</th>\n",
       "      <th>TaxClass_AtEvaluationTime</th>\n",
       "      <th>BldgClass_AtEvaluationTime</th>\n",
       "      <th>DateOfEvaluation</th>\n",
       "      <th>PropertyEvaluationvalue</th>\n",
       "    </tr>\n",
       "  </thead>\n",
       "  <tbody>\n",
       "    <tr>\n",
       "      <th>0</th>\n",
       "      <td>PR11101</td>\n",
       "      <td>1</td>\n",
       "      <td>NY</td>\n",
       "      <td>BATHGATE</td>\n",
       "      <td>1473 CROTONA PLACE</td>\n",
       "      <td>10456</td>\n",
       "      <td>2927</td>\n",
       "      <td>127</td>\n",
       "      <td>02 TWO FAMILY DWELLINGS</td>\n",
       "      <td>2</td>\n",
       "      <td>0</td>\n",
       "      <td>2</td>\n",
       "      <td>1900</td>\n",
       "      <td>2394</td>\n",
       "      <td>1990</td>\n",
       "      <td>1</td>\n",
       "      <td>B1</td>\n",
       "      <td>2014-05-30</td>\n",
       "      <td>540000</td>\n",
       "    </tr>\n",
       "    <tr>\n",
       "      <th>1</th>\n",
       "      <td>PR11102</td>\n",
       "      <td>1</td>\n",
       "      <td>NY</td>\n",
       "      <td>BATHGATE</td>\n",
       "      <td>453 EAST 181</td>\n",
       "      <td>10457</td>\n",
       "      <td>3037</td>\n",
       "      <td>110</td>\n",
       "      <td>03 THREE FAMILY DWELLINGS</td>\n",
       "      <td>3</td>\n",
       "      <td>0</td>\n",
       "      <td>3</td>\n",
       "      <td>1687</td>\n",
       "      <td>3037</td>\n",
       "      <td>2002</td>\n",
       "      <td>1</td>\n",
       "      <td>C0</td>\n",
       "      <td>2014-09-13</td>\n",
       "      <td>750000</td>\n",
       "    </tr>\n",
       "    <tr>\n",
       "      <th>2</th>\n",
       "      <td>PR11103</td>\n",
       "      <td>1</td>\n",
       "      <td>NY</td>\n",
       "      <td>BATHGATE</td>\n",
       "      <td>511 EAST 171 STREET</td>\n",
       "      <td>10457</td>\n",
       "      <td>2912</td>\n",
       "      <td>155</td>\n",
       "      <td>02 TWO FAMILY DWELLINGS</td>\n",
       "      <td>2</td>\n",
       "      <td>0</td>\n",
       "      <td>2</td>\n",
       "      <td>2000</td>\n",
       "      <td>2400</td>\n",
       "      <td>1989</td>\n",
       "      <td>1</td>\n",
       "      <td>B1</td>\n",
       "      <td>2014-09-28</td>\n",
       "      <td>470000</td>\n",
       "    </tr>\n",
       "    <tr>\n",
       "      <th>3</th>\n",
       "      <td>PR11104</td>\n",
       "      <td>1</td>\n",
       "      <td>NY</td>\n",
       "      <td>BATHGATE</td>\n",
       "      <td>547 CLAREMONT PARKWAY</td>\n",
       "      <td>10457</td>\n",
       "      <td>2929</td>\n",
       "      <td>134</td>\n",
       "      <td>02 TWO FAMILY DWELLINGS</td>\n",
       "      <td>2</td>\n",
       "      <td>0</td>\n",
       "      <td>2</td>\n",
       "      <td>2356</td>\n",
       "      <td>2394</td>\n",
       "      <td>1991</td>\n",
       "      <td>1</td>\n",
       "      <td>B1</td>\n",
       "      <td>2014-06-05</td>\n",
       "      <td>570000</td>\n",
       "    </tr>\n",
       "    <tr>\n",
       "      <th>4</th>\n",
       "      <td>PR11105</td>\n",
       "      <td>1</td>\n",
       "      <td>NY</td>\n",
       "      <td>BATHGATE</td>\n",
       "      <td>2063 WASHINGTON AVENUE</td>\n",
       "      <td>10457</td>\n",
       "      <td>3036</td>\n",
       "      <td>140</td>\n",
       "      <td>02 TWO FAMILY DWELLINGS</td>\n",
       "      <td>2</td>\n",
       "      <td>0</td>\n",
       "      <td>2</td>\n",
       "      <td>3346</td>\n",
       "      <td>2308</td>\n",
       "      <td>1993</td>\n",
       "      <td>1</td>\n",
       "      <td>B1</td>\n",
       "      <td>2015-02-07</td>\n",
       "      <td>640000</td>\n",
       "    </tr>\n",
       "    <tr>\n",
       "      <th>...</th>\n",
       "      <td>...</td>\n",
       "      <td>...</td>\n",
       "      <td>...</td>\n",
       "      <td>...</td>\n",
       "      <td>...</td>\n",
       "      <td>...</td>\n",
       "      <td>...</td>\n",
       "      <td>...</td>\n",
       "      <td>...</td>\n",
       "      <td>...</td>\n",
       "      <td>...</td>\n",
       "      <td>...</td>\n",
       "      <td>...</td>\n",
       "      <td>...</td>\n",
       "      <td>...</td>\n",
       "      <td>...</td>\n",
       "      <td>...</td>\n",
       "      <td>...</td>\n",
       "      <td>...</td>\n",
       "    </tr>\n",
       "    <tr>\n",
       "      <th>16805</th>\n",
       "      <td>PR27906</td>\n",
       "      <td>4</td>\n",
       "      <td>NY</td>\n",
       "      <td>CIVIC CENTER</td>\n",
       "      <td>30 PARK PLACE</td>\n",
       "      <td>10007</td>\n",
       "      <td>123</td>\n",
       "      <td>1213</td>\n",
       "      <td>13 CONDOS - ELEVATOR APARTMENTS</td>\n",
       "      <td>1</td>\n",
       "      <td>0</td>\n",
       "      <td>1</td>\n",
       "      <td>29715</td>\n",
       "      <td>2803</td>\n",
       "      <td>2004</td>\n",
       "      <td>2</td>\n",
       "      <td>R4</td>\n",
       "      <td>2014-11-30</td>\n",
       "      <td>8454562</td>\n",
       "    </tr>\n",
       "    <tr>\n",
       "      <th>16806</th>\n",
       "      <td>PR27907</td>\n",
       "      <td>4</td>\n",
       "      <td>NY</td>\n",
       "      <td>CIVIC CENTER</td>\n",
       "      <td>56 LEONARD STREET</td>\n",
       "      <td>10013</td>\n",
       "      <td>176</td>\n",
       "      <td>1054</td>\n",
       "      <td>13 CONDOS - ELEVATOR APARTMENTS</td>\n",
       "      <td>1</td>\n",
       "      <td>0</td>\n",
       "      <td>1</td>\n",
       "      <td>12518</td>\n",
       "      <td>2252</td>\n",
       "      <td>2003</td>\n",
       "      <td>2</td>\n",
       "      <td>R4</td>\n",
       "      <td>2014-12-19</td>\n",
       "      <td>6250000</td>\n",
       "    </tr>\n",
       "    <tr>\n",
       "      <th>16807</th>\n",
       "      <td>PR27908</td>\n",
       "      <td>4</td>\n",
       "      <td>NY</td>\n",
       "      <td>CIVIC CENTER</td>\n",
       "      <td>56 LEONARD STREET</td>\n",
       "      <td>10013</td>\n",
       "      <td>176</td>\n",
       "      <td>1102</td>\n",
       "      <td>13 CONDOS - ELEVATOR APARTMENTS</td>\n",
       "      <td>1</td>\n",
       "      <td>0</td>\n",
       "      <td>1</td>\n",
       "      <td>12518</td>\n",
       "      <td>2177</td>\n",
       "      <td>2003</td>\n",
       "      <td>2</td>\n",
       "      <td>R4</td>\n",
       "      <td>2014-11-16</td>\n",
       "      <td>7150000</td>\n",
       "    </tr>\n",
       "    <tr>\n",
       "      <th>16808</th>\n",
       "      <td>PR27909</td>\n",
       "      <td>4</td>\n",
       "      <td>NY</td>\n",
       "      <td>TRIBECA</td>\n",
       "      <td>250 SOUTH END AVENUE</td>\n",
       "      <td>10280</td>\n",
       "      <td>16</td>\n",
       "      <td>2249</td>\n",
       "      <td>13 CONDOS - ELEVATOR APARTMENTS</td>\n",
       "      <td>1</td>\n",
       "      <td>0</td>\n",
       "      <td>1</td>\n",
       "      <td>12644</td>\n",
       "      <td>594</td>\n",
       "      <td>1981</td>\n",
       "      <td>2</td>\n",
       "      <td>R4</td>\n",
       "      <td>2014-09-17</td>\n",
       "      <td>550000</td>\n",
       "    </tr>\n",
       "    <tr>\n",
       "      <th>16809</th>\n",
       "      <td>PR27910</td>\n",
       "      <td>4</td>\n",
       "      <td>NY</td>\n",
       "      <td>HARLEM-UPPER</td>\n",
       "      <td>415 WEST 150 STREET</td>\n",
       "      <td>10031</td>\n",
       "      <td>2065</td>\n",
       "      <td>22</td>\n",
       "      <td>08  RENTALS - ELEVATOR APARTMENTS</td>\n",
       "      <td>16</td>\n",
       "      <td>1</td>\n",
       "      <td>17</td>\n",
       "      <td>4996</td>\n",
       "      <td>29529</td>\n",
       "      <td>2007</td>\n",
       "      <td>2</td>\n",
       "      <td>D7</td>\n",
       "      <td>2013-03-22</td>\n",
       "      <td>5000000</td>\n",
       "    </tr>\n",
       "  </tbody>\n",
       "</table>\n",
       "<p>16810 rows × 19 columns</p>\n",
       "</div>"
      ],
      "text/plain": [
       "      PropertyID  Borough State  Surroundings                 Address  \\\n",
       "0        PR11101        1    NY      BATHGATE      1473 CROTONA PLACE   \n",
       "1        PR11102        1    NY      BATHGATE            453 EAST 181   \n",
       "2        PR11103        1    NY      BATHGATE     511 EAST 171 STREET   \n",
       "3        PR11104        1    NY      BATHGATE   547 CLAREMONT PARKWAY   \n",
       "4        PR11105        1    NY      BATHGATE  2063 WASHINGTON AVENUE   \n",
       "...          ...      ...   ...           ...                     ...   \n",
       "16805    PR27906        4    NY  CIVIC CENTER           30 PARK PLACE   \n",
       "16806    PR27907        4    NY  CIVIC CENTER       56 LEONARD STREET   \n",
       "16807    PR27908        4    NY  CIVIC CENTER       56 LEONARD STREET   \n",
       "16808    PR27909        4    NY       TRIBECA    250 SOUTH END AVENUE   \n",
       "16809    PR27910        4    NY  HARLEM-UPPER     415 WEST 150 STREET   \n",
       "\n",
       "       ZipCode  Block   Lot                  BldgClassCategory  \\\n",
       "0        10456   2927   127            02 TWO FAMILY DWELLINGS   \n",
       "1        10457   3037   110          03 THREE FAMILY DWELLINGS   \n",
       "2        10457   2912   155            02 TWO FAMILY DWELLINGS   \n",
       "3        10457   2929   134            02 TWO FAMILY DWELLINGS   \n",
       "4        10457   3036   140            02 TWO FAMILY DWELLINGS   \n",
       "...        ...    ...   ...                                ...   \n",
       "16805    10007    123  1213    13 CONDOS - ELEVATOR APARTMENTS   \n",
       "16806    10013    176  1054    13 CONDOS - ELEVATOR APARTMENTS   \n",
       "16807    10013    176  1102    13 CONDOS - ELEVATOR APARTMENTS   \n",
       "16808    10280     16  2249    13 CONDOS - ELEVATOR APARTMENTS   \n",
       "16809    10031   2065    22  08  RENTALS - ELEVATOR APARTMENTS   \n",
       "\n",
       "       NoOfResidentialUnits  NoOfCommercialUnits  TotalNoOfUnits  \\\n",
       "0                         2                    0               2   \n",
       "1                         3                    0               3   \n",
       "2                         2                    0               2   \n",
       "3                         2                    0               2   \n",
       "4                         2                    0               2   \n",
       "...                     ...                  ...             ...   \n",
       "16805                     1                    0               1   \n",
       "16806                     1                    0               1   \n",
       "16807                     1                    0               1   \n",
       "16808                     1                    0               1   \n",
       "16809                    16                    1              17   \n",
       "\n",
       "       LandAreaInSqFt  GrossAreaInSqFt  YearOfConstruction  \\\n",
       "0                1900             2394                1990   \n",
       "1                1687             3037                2002   \n",
       "2                2000             2400                1989   \n",
       "3                2356             2394                1991   \n",
       "4                3346             2308                1993   \n",
       "...               ...              ...                 ...   \n",
       "16805           29715             2803                2004   \n",
       "16806           12518             2252                2003   \n",
       "16807           12518             2177                2003   \n",
       "16808           12644              594                1981   \n",
       "16809            4996            29529                2007   \n",
       "\n",
       "       TaxClass_AtEvaluationTime BldgClass_AtEvaluationTime DateOfEvaluation  \\\n",
       "0                              1                         B1       2014-05-30   \n",
       "1                              1                         C0       2014-09-13   \n",
       "2                              1                         B1       2014-09-28   \n",
       "3                              1                         B1       2014-06-05   \n",
       "4                              1                         B1       2015-02-07   \n",
       "...                          ...                        ...              ...   \n",
       "16805                          2                         R4       2014-11-30   \n",
       "16806                          2                         R4       2014-12-19   \n",
       "16807                          2                         R4       2014-11-16   \n",
       "16808                          2                         R4       2014-09-17   \n",
       "16809                          2                         D7       2013-03-22   \n",
       "\n",
       "       PropertyEvaluationvalue  \n",
       "0                       540000  \n",
       "1                       750000  \n",
       "2                       470000  \n",
       "3                       570000  \n",
       "4                       640000  \n",
       "...                        ...  \n",
       "16805                  8454562  \n",
       "16806                  6250000  \n",
       "16807                  7150000  \n",
       "16808                   550000  \n",
       "16809                  5000000  \n",
       "\n",
       "[16810 rows x 19 columns]"
      ]
     },
     "execution_count": 2,
     "metadata": {},
     "output_type": "execute_result"
    }
   ],
   "source": [
    "df = pd.read_excel(\"Train.xlsx\")\n",
    "df"
   ]
  },
  {
   "cell_type": "code",
   "execution_count": 3,
   "id": "47e88683",
   "metadata": {},
   "outputs": [
    {
     "name": "stdout",
     "output_type": "stream",
     "text": [
      "<class 'pandas.core.frame.DataFrame'>\n",
      "RangeIndex: 16810 entries, 0 to 16809\n",
      "Data columns (total 19 columns):\n",
      " #   Column                      Non-Null Count  Dtype         \n",
      "---  ------                      --------------  -----         \n",
      " 0   PropertyID                  16810 non-null  object        \n",
      " 1   Borough                     16810 non-null  int64         \n",
      " 2   State                       16810 non-null  object        \n",
      " 3   Surroundings                16810 non-null  object        \n",
      " 4   Address                     16810 non-null  object        \n",
      " 5   ZipCode                     16810 non-null  int64         \n",
      " 6   Block                       16810 non-null  int64         \n",
      " 7   Lot                         16810 non-null  int64         \n",
      " 8   BldgClassCategory           16810 non-null  object        \n",
      " 9   NoOfResidentialUnits        16810 non-null  int64         \n",
      " 10  NoOfCommercialUnits         16810 non-null  int64         \n",
      " 11  TotalNoOfUnits              16810 non-null  int64         \n",
      " 12  LandAreaInSqFt              16810 non-null  int64         \n",
      " 13  GrossAreaInSqFt             16810 non-null  int64         \n",
      " 14  YearOfConstruction          16810 non-null  int64         \n",
      " 15  TaxClass_AtEvaluationTime   16810 non-null  int64         \n",
      " 16  BldgClass_AtEvaluationTime  16810 non-null  object        \n",
      " 17  DateOfEvaluation            16810 non-null  datetime64[ns]\n",
      " 18  PropertyEvaluationvalue     16810 non-null  int64         \n",
      "dtypes: datetime64[ns](1), int64(12), object(6)\n",
      "memory usage: 2.1+ MB\n"
     ]
    }
   ],
   "source": [
    "df.info()"
   ]
  },
  {
   "cell_type": "markdown",
   "id": "31ae4d21",
   "metadata": {},
   "source": [
    "## Ananyze Each Feature"
   ]
  },
  {
   "cell_type": "code",
   "execution_count": 4,
   "id": "ea99688f",
   "metadata": {},
   "outputs": [
    {
     "name": "stdout",
     "output_type": "stream",
     "text": [
      "PropertyID has 16810 unique values\n",
      "State has 1 unique values\n",
      "Surroundings has 243 unique values\n",
      "Address has 15219 unique values\n",
      "BldgClassCategory has 52 unique values\n",
      "BldgClass_AtEvaluationTime has 101 unique values\n"
     ]
    }
   ],
   "source": [
    "for i in df.columns:\n",
    "    if df[i].dtype == \"object\":\n",
    "        print(i + \" has \" + str(len(df[i].unique())) + \" unique values\")"
   ]
  },
  {
   "cell_type": "code",
   "execution_count": 5,
   "id": "8ee71a72",
   "metadata": {},
   "outputs": [
    {
     "name": "stdout",
     "output_type": "stream",
     "text": [
      "Borough has 5 unique values\n",
      "ZipCode has 174 unique values\n",
      "Block has 6405 unique values\n",
      "Lot has 1299 unique values\n"
     ]
    }
   ],
   "source": [
    "for i in df.columns[0:8]:\n",
    "    if df[i].dtype != \"object\":\n",
    "        print(i + \" has \" + str(len(df[i].unique())) + \" unique values\")"
   ]
  },
  {
   "cell_type": "code",
   "execution_count": 6,
   "id": "e78bc14f",
   "metadata": {},
   "outputs": [
    {
     "data": {
      "image/png": "[encoded data removed]",
      "text/plain": [
       "<Figure size 1440x216 with 1 Axes>"
      ]
     },
     "metadata": {
      "needs_background": "light"
     },
     "output_type": "display_data"
    },
    {
     "data": {
      "image/png": "[encoded data removed]",
      "text/plain": [
       "<Figure size 1440x216 with 1 Axes>"
      ]
     },
     "metadata": {
      "needs_background": "light"
     },
     "output_type": "display_data"
    },
    {
     "data": {
      "image/png": "[encoded data removed]",
      "text/plain": [
       "<Figure size 1440x216 with 1 Axes>"
      ]
     },
     "metadata": {
      "needs_background": "light"
     },
     "output_type": "display_data"
    },
    {
     "data": {
      "image/png": "[encoded data removed]",
      "text/plain": [
       "<Figure size 1440x216 with 1 Axes>"
      ]
     },
     "metadata": {
      "needs_background": "light"
     },
     "output_type": "display_data"
    },
    {
     "data": {
      "image/png": "[encoded data removed]",
      "text/plain": [
       "<Figure size 1440x216 with 1 Axes>"
      ]
     },
     "metadata": {
      "needs_background": "light"
     },
     "output_type": "display_data"
    }
   ],
   "source": [
    "for i in df.columns[9:14]:\n",
    "    plt.figure(figsize = (20,3))\n",
    "    sns.boxplot(df[i], showfliers = False)\n",
    "    plt.title(i)"
   ]
  },
  {
   "cell_type": "code",
   "execution_count": 7,
   "id": "79a81db0",
   "metadata": {},
   "outputs": [
    {
     "data": {
      "text/plain": [
       "Text(0.5, 1.0, 'NoOfCommercialUnits')"
      ]
     },
     "execution_count": 7,
     "metadata": {},
     "output_type": "execute_result"
    },
    {
     "data": {
      "image/png": "[encoded data removed]",
      "text/plain": [
       "<Figure size 1440x720 with 1 Axes>"
      ]
     },
     "metadata": {
      "needs_background": "light"
     },
     "output_type": "display_data"
    }
   ],
   "source": [
    "plt.figure(figsize = (20,10))\n",
    "sns.countplot(df[\"NoOfCommercialUnits\"])\n",
    "plt.title(\"NoOfCommercialUnits\")"
   ]
  },
  {
   "cell_type": "code",
   "execution_count": 8,
   "id": "f813924a",
   "metadata": {},
   "outputs": [
    {
     "data": {
      "image/png": "[encoded data removed]",
      "text/plain": [
       "<Figure size 1440x360 with 1 Axes>"
      ]
     },
     "metadata": {
      "needs_background": "light"
     },
     "output_type": "display_data"
    }
   ],
   "source": [
    "plt.figure(figsize = (20,5))\n",
    "sns.countplot(df[\"YearOfConstruction\"])\n",
    "plt.title(\"YearOfConstruction\")\n",
    "plt.xticks(rotation=45);"
   ]
  },
  {
   "cell_type": "code",
   "execution_count": 9,
   "id": "05cdbb81",
   "metadata": {},
   "outputs": [],
   "source": [
    "import datetime\n",
    "df[\"DateOfEvaluation\"] = pd.to_datetime(df[\"DateOfEvaluation\"])"
   ]
  },
  {
   "cell_type": "code",
   "execution_count": 10,
   "id": "de3c6c31",
   "metadata": {},
   "outputs": [],
   "source": [
    "df['EvaluationYear'] = df[\"DateOfEvaluation\"].dt.year"
   ]
  },
  {
   "cell_type": "code",
   "execution_count": 11,
   "id": "57eb7e89",
   "metadata": {},
   "outputs": [],
   "source": [
    "df['EvaluationMonth'] = df[\"DateOfEvaluation\"].dt.month"
   ]
  },
  {
   "cell_type": "code",
   "execution_count": 12,
   "id": "1dbed8f6",
   "metadata": {},
   "outputs": [],
   "source": [
    "df['EvaluationDay'] = df[\"DateOfEvaluation\"].dt.day"
   ]
  },
  {
   "cell_type": "code",
   "execution_count": 13,
   "id": "579cd4a4",
   "metadata": {},
   "outputs": [],
   "source": [
    "df.drop(\"DateOfEvaluation\", axis=1, inplace=True)"
   ]
  },
  {
   "cell_type": "code",
   "execution_count": 14,
   "id": "c0aac332",
   "metadata": {},
   "outputs": [
    {
     "data": {
      "text/plain": [
       "array([2014, 2015, 2012, 2013], dtype=int64)"
      ]
     },
     "execution_count": 14,
     "metadata": {},
     "output_type": "execute_result"
    }
   ],
   "source": [
    "df['EvaluationYear'].unique()"
   ]
  },
  {
   "cell_type": "code",
   "execution_count": 15,
   "id": "34951c81",
   "metadata": {},
   "outputs": [
    {
     "data": {
      "image/png": "[encoded data removed]",
      "text/plain": [
       "<Figure size 1440x360 with 1 Axes>"
      ]
     },
     "metadata": {
      "needs_background": "light"
     },
     "output_type": "display_data"
    }
   ],
   "source": [
    "plt.figure(figsize = (20,5))\n",
    "sns.boxplot(df[\"PropertyEvaluationvalue\"], showfliers = False)\n",
    "plt.title(\"PropertyEvaluationvalue\")\n",
    "plt.ticklabel_format(useOffset=False,style=\"plain\", axis=\"x\")"
   ]
  },
  {
   "cell_type": "markdown",
   "id": "96f36c78",
   "metadata": {},
   "source": [
    "## EDA"
   ]
  },
  {
   "cell_type": "code",
   "execution_count": 16,
   "id": "2a270f9d",
   "metadata": {},
   "outputs": [
    {
     "data": {
      "text/html": [
       "<div>\n",
       "<style scoped>\n",
       "    .dataframe tbody tr th:only-of-type {\n",
       "        vertical-align: middle;\n",
       "    }\n",
       "\n",
       "    .dataframe tbody tr th {\n",
       "        vertical-align: top;\n",
       "    }\n",
       "\n",
       "    .dataframe thead th {\n",
       "        text-align: right;\n",
       "    }\n",
       "</style>\n",
       "<table border=\"1\" class=\"dataframe\">\n",
       "  <thead>\n",
       "    <tr style=\"text-align: right;\">\n",
       "      <th></th>\n",
       "      <th>PropertyID</th>\n",
       "      <th>State</th>\n",
       "      <th>Surroundings</th>\n",
       "      <th>Address</th>\n",
       "      <th>ZipCode</th>\n",
       "      <th>Block</th>\n",
       "      <th>Lot</th>\n",
       "      <th>BldgClassCategory</th>\n",
       "      <th>NoOfResidentialUnits</th>\n",
       "      <th>NoOfCommercialUnits</th>\n",
       "      <th>TotalNoOfUnits</th>\n",
       "      <th>LandAreaInSqFt</th>\n",
       "      <th>GrossAreaInSqFt</th>\n",
       "      <th>YearOfConstruction</th>\n",
       "      <th>TaxClass_AtEvaluationTime</th>\n",
       "      <th>BldgClass_AtEvaluationTime</th>\n",
       "      <th>PropertyEvaluationvalue</th>\n",
       "      <th>EvaluationYear</th>\n",
       "      <th>EvaluationMonth</th>\n",
       "      <th>EvaluationDay</th>\n",
       "    </tr>\n",
       "    <tr>\n",
       "      <th>Borough</th>\n",
       "      <th></th>\n",
       "      <th></th>\n",
       "      <th></th>\n",
       "      <th></th>\n",
       "      <th></th>\n",
       "      <th></th>\n",
       "      <th></th>\n",
       "      <th></th>\n",
       "      <th></th>\n",
       "      <th></th>\n",
       "      <th></th>\n",
       "      <th></th>\n",
       "      <th></th>\n",
       "      <th></th>\n",
       "      <th></th>\n",
       "      <th></th>\n",
       "      <th></th>\n",
       "      <th></th>\n",
       "      <th></th>\n",
       "      <th></th>\n",
       "    </tr>\n",
       "  </thead>\n",
       "  <tbody>\n",
       "    <tr>\n",
       "      <th>1</th>\n",
       "      <td>1707</td>\n",
       "      <td>1707</td>\n",
       "      <td>1707</td>\n",
       "      <td>1707</td>\n",
       "      <td>1707</td>\n",
       "      <td>1707</td>\n",
       "      <td>1707</td>\n",
       "      <td>1707</td>\n",
       "      <td>1707</td>\n",
       "      <td>1707</td>\n",
       "      <td>1707</td>\n",
       "      <td>1707</td>\n",
       "      <td>1707</td>\n",
       "      <td>1707</td>\n",
       "      <td>1707</td>\n",
       "      <td>1707</td>\n",
       "      <td>1707</td>\n",
       "      <td>1707</td>\n",
       "      <td>1707</td>\n",
       "      <td>1707</td>\n",
       "    </tr>\n",
       "    <tr>\n",
       "      <th>2</th>\n",
       "      <td>2895</td>\n",
       "      <td>2895</td>\n",
       "      <td>2895</td>\n",
       "      <td>2895</td>\n",
       "      <td>2895</td>\n",
       "      <td>2895</td>\n",
       "      <td>2895</td>\n",
       "      <td>2895</td>\n",
       "      <td>2895</td>\n",
       "      <td>2895</td>\n",
       "      <td>2895</td>\n",
       "      <td>2895</td>\n",
       "      <td>2895</td>\n",
       "      <td>2895</td>\n",
       "      <td>2895</td>\n",
       "      <td>2895</td>\n",
       "      <td>2895</td>\n",
       "      <td>2895</td>\n",
       "      <td>2895</td>\n",
       "      <td>2895</td>\n",
       "    </tr>\n",
       "    <tr>\n",
       "      <th>3</th>\n",
       "      <td>4879</td>\n",
       "      <td>4879</td>\n",
       "      <td>4879</td>\n",
       "      <td>4879</td>\n",
       "      <td>4879</td>\n",
       "      <td>4879</td>\n",
       "      <td>4879</td>\n",
       "      <td>4879</td>\n",
       "      <td>4879</td>\n",
       "      <td>4879</td>\n",
       "      <td>4879</td>\n",
       "      <td>4879</td>\n",
       "      <td>4879</td>\n",
       "      <td>4879</td>\n",
       "      <td>4879</td>\n",
       "      <td>4879</td>\n",
       "      <td>4879</td>\n",
       "      <td>4879</td>\n",
       "      <td>4879</td>\n",
       "      <td>4879</td>\n",
       "    </tr>\n",
       "    <tr>\n",
       "      <th>4</th>\n",
       "      <td>967</td>\n",
       "      <td>967</td>\n",
       "      <td>967</td>\n",
       "      <td>967</td>\n",
       "      <td>967</td>\n",
       "      <td>967</td>\n",
       "      <td>967</td>\n",
       "      <td>967</td>\n",
       "      <td>967</td>\n",
       "      <td>967</td>\n",
       "      <td>967</td>\n",
       "      <td>967</td>\n",
       "      <td>967</td>\n",
       "      <td>967</td>\n",
       "      <td>967</td>\n",
       "      <td>967</td>\n",
       "      <td>967</td>\n",
       "      <td>967</td>\n",
       "      <td>967</td>\n",
       "      <td>967</td>\n",
       "    </tr>\n",
       "    <tr>\n",
       "      <th>5</th>\n",
       "      <td>6362</td>\n",
       "      <td>6362</td>\n",
       "      <td>6362</td>\n",
       "      <td>6362</td>\n",
       "      <td>6362</td>\n",
       "      <td>6362</td>\n",
       "      <td>6362</td>\n",
       "      <td>6362</td>\n",
       "      <td>6362</td>\n",
       "      <td>6362</td>\n",
       "      <td>6362</td>\n",
       "      <td>6362</td>\n",
       "      <td>6362</td>\n",
       "      <td>6362</td>\n",
       "      <td>6362</td>\n",
       "      <td>6362</td>\n",
       "      <td>6362</td>\n",
       "      <td>6362</td>\n",
       "      <td>6362</td>\n",
       "      <td>6362</td>\n",
       "    </tr>\n",
       "  </tbody>\n",
       "</table>\n",
       "</div>"
      ],
      "text/plain": [
       "         PropertyID  State  Surroundings  Address  ZipCode  Block   Lot  \\\n",
       "Borough                                                                   \n",
       "1              1707   1707          1707     1707     1707   1707  1707   \n",
       "2              2895   2895          2895     2895     2895   2895  2895   \n",
       "3              4879   4879          4879     4879     4879   4879  4879   \n",
       "4               967    967           967      967      967    967   967   \n",
       "5              6362   6362          6362     6362     6362   6362  6362   \n",
       "\n",
       "         BldgClassCategory  NoOfResidentialUnits  NoOfCommercialUnits  \\\n",
       "Borough                                                                 \n",
       "1                     1707                  1707                 1707   \n",
       "2                     2895                  2895                 2895   \n",
       "3                     4879                  4879                 4879   \n",
       "4                      967                   967                  967   \n",
       "5                     6362                  6362                 6362   \n",
       "\n",
       "         TotalNoOfUnits  LandAreaInSqFt  GrossAreaInSqFt  YearOfConstruction  \\\n",
       "Borough                                                                        \n",
       "1                  1707            1707             1707                1707   \n",
       "2                  2895            2895             2895                2895   \n",
       "3                  4879            4879             4879                4879   \n",
       "4                   967             967              967                 967   \n",
       "5                  6362            6362             6362                6362   \n",
       "\n",
       "         TaxClass_AtEvaluationTime  BldgClass_AtEvaluationTime  \\\n",
       "Borough                                                          \n",
       "1                             1707                        1707   \n",
       "2                             2895                        2895   \n",
       "3                             4879                        4879   \n",
       "4                              967                         967   \n",
       "5                             6362                        6362   \n",
       "\n",
       "         PropertyEvaluationvalue  EvaluationYear  EvaluationMonth  \\\n",
       "Borough                                                             \n",
       "1                           1707            1707             1707   \n",
       "2                           2895            2895             2895   \n",
       "3                           4879            4879             4879   \n",
       "4                            967             967              967   \n",
       "5                           6362            6362             6362   \n",
       "\n",
       "         EvaluationDay  \n",
       "Borough                 \n",
       "1                 1707  \n",
       "2                 2895  \n",
       "3                 4879  \n",
       "4                  967  \n",
       "5                 6362  "
      ]
     },
     "execution_count": 16,
     "metadata": {},
     "output_type": "execute_result"
    }
   ],
   "source": [
    "count_by_borough = df.groupby(\"Borough\").count()[0]\n",
    "count_by_borough"
   ]
  },
  {
   "cell_type": "code",
   "execution_count": null,
   "id": "4f7cff9a",
   "metadata": {},
   "outputs": [],
   "source": []
  }
 ],
 "metadata": {
  "kernelspec": {
   "display_name": "Python 3",
   "language": "python",
   "name": "python3"
  },
  "language_info": {
   "codemirror_mode": {
    "name": "ipython",
    "version": 3
   },
   "file_extension": ".py",
   "mimetype": "text/x-python",
   "name": "python",
   "nbconvert_exporter": "python",
   "pygments_lexer": "ipython3",
   "version": "3.8.3"
  }
 },
 "nbformat": 4,
 "nbformat_minor": 5
}
